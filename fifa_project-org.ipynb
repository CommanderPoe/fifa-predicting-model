{
 "cells": [
  {
   "cell_type": "code",
   "execution_count": 1,
   "metadata": {},
   "outputs": [],
   "source": [
    "# Priint more than 1 output within the same cell\n",
    "\n",
    "from IPython.core.interactiveshell import InteractiveShell\n",
    "InteractiveShell.ast_node_interactivity = \"all\""
   ]
  },
  {
   "cell_type": "code",
   "execution_count": 2,
   "metadata": {},
   "outputs": [],
   "source": [
    "# Importing all dedicated libraries\n",
    "\n",
    "import pandas as pd\n",
    "import numpy as np\n",
    "import matplotlib.pyplot as plt\n",
    "import seaborn as sns\n",
    "from scipy.stats import shapiro\n",
    "from scipy import stats\n",
    "from sklearn.preprocessing import MinMaxScaler\n",
    "from sklearn.preprocessing import StandardScaler\n",
    "from sklearn.preprocessing import OneHotEncoder\n",
    "from sklearn.preprocessing import LabelEncoder\n",
    "from sklearn.model_selection import train_test_split\n",
    "from sklearn import linear_model\n",
    "from sklearn.metrics import r2_score\n",
    "from sklearn.metrics import mean_squared_error\n",
    "import math\n",
    "from sklearn.preprocessing import PowerTransformer"
   ]
  },
  {
   "cell_type": "code",
   "execution_count": 3,
   "metadata": {},
   "outputs": [],
   "source": [
    "# Print whole df if necessary\n",
    "\n",
    "pd.set_option('display.max_rows', 50)"
   ]
  },
  {
   "cell_type": "code",
   "execution_count": 4,
   "metadata": {},
   "outputs": [],
   "source": [
    "# Reading files into a DF\n",
    "\n",
    "df = pd.read_csv('./dataset/fifa21_training.csv')"
   ]
  },
  {
   "cell_type": "raw",
   "metadata": {},
   "source": [
    "df[['W/F',\n",
    " 'SM',\n",
    " 'A/W',\n",
    " 'D/W',\n",
    " 'IR',]]"
   ]
  },
  {
   "cell_type": "raw",
   "metadata": {},
   "source": [
    "df['IR'].value_counts()\n",
    "df['SM'].value_counts()"
   ]
  },
  {
   "cell_type": "code",
   "execution_count": 5,
   "metadata": {},
   "outputs": [],
   "source": [
    "# Unpivoting the df to get the value for each player and in the best position\n",
    "\n",
    "df_melt= df.melt(id_vars= ['Unnamed: 0',\n",
    " 'ID',\n",
    " 'Name',\n",
    " 'Age',\n",
    " 'Nationality',\n",
    " 'Club',\n",
    " 'BP',\n",
    " 'Position',\n",
    " 'Team & Contract',\n",
    " 'Height',\n",
    " 'Weight',\n",
    " 'foot',\n",
    " 'Growth',\n",
    " 'Joined',\n",
    " 'Loan Date End',\n",
    " 'Value',\n",
    " 'Wage',\n",
    " 'Release Clause',\n",
    " 'Contract',\n",
    " 'Attacking',\n",
    " 'Crossing',\n",
    " 'Finishing',\n",
    " 'Heading Accuracy',\n",
    " 'Short Passing',\n",
    " 'Volleys',\n",
    " 'Skill',\n",
    " 'Dribbling',\n",
    " 'Curve',\n",
    " 'FK Accuracy',\n",
    " 'Long Passing',\n",
    " 'Ball Control',\n",
    " 'Movement',\n",
    " 'Acceleration',\n",
    " 'Sprint Speed',\n",
    " 'Agility',\n",
    " 'Reactions',\n",
    " 'Balance',\n",
    " 'Power',\n",
    " 'Shot Power',\n",
    " 'Jumping',\n",
    " 'Stamina',\n",
    " 'Strength',\n",
    " 'Long Shots',\n",
    " 'Mentality',\n",
    " 'Aggression',\n",
    " 'Interceptions',\n",
    " 'Positioning',\n",
    " 'Vision',\n",
    " 'Penalties',\n",
    " 'Composure',\n",
    " 'Defending',\n",
    " 'Marking',\n",
    " 'Standing Tackle',\n",
    " 'Sliding Tackle',\n",
    " 'Goalkeeping',\n",
    " 'GK Diving',\n",
    " 'GK Handling',\n",
    " 'GK Kicking',\n",
    " 'GK Positioning',\n",
    " 'GK Reflexes',\n",
    " 'Total Stats',\n",
    " 'Base Stats',\n",
    " 'W/F',\n",
    " 'SM',\n",
    " 'A/W',\n",
    " 'D/W',\n",
    " 'IR',\n",
    " 'PAC',\n",
    " 'SHO',\n",
    " 'PAS',\n",
    " 'DRI',\n",
    " 'DEF',\n",
    " 'PHY',\n",
    " 'Hits','OVA'], value_vars= ['LS',\n",
    " 'ST',\n",
    " 'RS',\n",
    " 'LW',\n",
    " 'LF',\n",
    " 'CF',\n",
    " 'RF',\n",
    " 'RW',\n",
    " 'LAM',\n",
    " 'CAM',\n",
    " 'RAM',\n",
    " 'LM',\n",
    " 'LCM',\n",
    " 'CM',\n",
    " 'RCM',\n",
    " 'RM',\n",
    " 'LWB',\n",
    " 'LDM',\n",
    " 'CDM',\n",
    " 'RDM',\n",
    " 'RWB',\n",
    " 'LB',\n",
    " 'LCB',\n",
    " 'CB',\n",
    " 'RCB',\n",
    " 'RB',\n",
    " 'GK'])"
   ]
  },
  {
   "cell_type": "code",
   "execution_count": 6,
   "metadata": {},
   "outputs": [],
   "source": [
    "df_m= df_melt[df_melt['BP']== df_melt['variable']]"
   ]
  },
  {
   "cell_type": "code",
   "execution_count": 7,
   "metadata": {},
   "outputs": [
    {
     "data": {
      "text/html": [
       "<div>\n",
       "<style scoped>\n",
       "    .dataframe tbody tr th:only-of-type {\n",
       "        vertical-align: middle;\n",
       "    }\n",
       "\n",
       "    .dataframe tbody tr th {\n",
       "        vertical-align: top;\n",
       "    }\n",
       "\n",
       "    .dataframe thead th {\n",
       "        text-align: right;\n",
       "    }\n",
       "</style>\n",
       "<table border=\"1\" class=\"dataframe\">\n",
       "  <thead>\n",
       "    <tr style=\"text-align: right;\">\n",
       "      <th></th>\n",
       "      <th>Unnamed: 0</th>\n",
       "      <th>ID</th>\n",
       "      <th>Name</th>\n",
       "      <th>Age</th>\n",
       "      <th>Nationality</th>\n",
       "      <th>Club</th>\n",
       "      <th>BP</th>\n",
       "      <th>Position</th>\n",
       "      <th>Team &amp; Contract</th>\n",
       "      <th>Height</th>\n",
       "      <th>...</th>\n",
       "      <th>PAC</th>\n",
       "      <th>SHO</th>\n",
       "      <th>PAS</th>\n",
       "      <th>DRI</th>\n",
       "      <th>DEF</th>\n",
       "      <th>PHY</th>\n",
       "      <th>Hits</th>\n",
       "      <th>OVA</th>\n",
       "      <th>variable</th>\n",
       "      <th>value</th>\n",
       "    </tr>\n",
       "  </thead>\n",
       "  <tbody>\n",
       "    <tr>\n",
       "      <td>13701</td>\n",
       "      <td>2225</td>\n",
       "      <td>188044</td>\n",
       "      <td>Alan Carvalho</td>\n",
       "      <td>30</td>\n",
       "      <td>China PR</td>\n",
       "      <td>Beijing Sinobo Guoan FC</td>\n",
       "      <td>ST</td>\n",
       "      <td>ST LW LM</td>\n",
       "      <td>Beijing Sinobo Guoan FC Dec 31, 2020 On Loan</td>\n",
       "      <td>6'0\"</td>\n",
       "      <td>...</td>\n",
       "      <td>83</td>\n",
       "      <td>75</td>\n",
       "      <td>68</td>\n",
       "      <td>82</td>\n",
       "      <td>33</td>\n",
       "      <td>71</td>\n",
       "      <td>44</td>\n",
       "      <td>77</td>\n",
       "      <td>ST</td>\n",
       "      <td>77+0</td>\n",
       "    </tr>\n",
       "    <tr>\n",
       "      <td>13718</td>\n",
       "      <td>5168</td>\n",
       "      <td>209709</td>\n",
       "      <td>B. Edomwonyi</td>\n",
       "      <td>25</td>\n",
       "      <td>Nigeria</td>\n",
       "      <td>FK Austria Wien</td>\n",
       "      <td>ST</td>\n",
       "      <td>ST LM</td>\n",
       "      <td>FK Austria Wien 2018 ~ 2022</td>\n",
       "      <td>6'1\"</td>\n",
       "      <td>...</td>\n",
       "      <td>85</td>\n",
       "      <td>62</td>\n",
       "      <td>52</td>\n",
       "      <td>67</td>\n",
       "      <td>29</td>\n",
       "      <td>71</td>\n",
       "      <td>6</td>\n",
       "      <td>66</td>\n",
       "      <td>ST</td>\n",
       "      <td>66+2</td>\n",
       "    </tr>\n",
       "    <tr>\n",
       "      <td>13722</td>\n",
       "      <td>12279</td>\n",
       "      <td>242250</td>\n",
       "      <td>G. Verón</td>\n",
       "      <td>18</td>\n",
       "      <td>Argentina</td>\n",
       "      <td>Argentinos Juniors</td>\n",
       "      <td>ST</td>\n",
       "      <td>ST</td>\n",
       "      <td>Argentinos Juniors 2018 ~ 2021</td>\n",
       "      <td>6'0\"</td>\n",
       "      <td>...</td>\n",
       "      <td>63</td>\n",
       "      <td>57</td>\n",
       "      <td>44</td>\n",
       "      <td>58</td>\n",
       "      <td>30</td>\n",
       "      <td>58</td>\n",
       "      <td>4</td>\n",
       "      <td>59</td>\n",
       "      <td>ST</td>\n",
       "      <td>58+2</td>\n",
       "    </tr>\n",
       "    <tr>\n",
       "      <td>13724</td>\n",
       "      <td>4707</td>\n",
       "      <td>206263</td>\n",
       "      <td>T. Hopper</td>\n",
       "      <td>26</td>\n",
       "      <td>England</td>\n",
       "      <td>Lincoln City</td>\n",
       "      <td>ST</td>\n",
       "      <td>ST</td>\n",
       "      <td>Lincoln City 2020 ~ 2023</td>\n",
       "      <td>6'1\"</td>\n",
       "      <td>...</td>\n",
       "      <td>63</td>\n",
       "      <td>62</td>\n",
       "      <td>52</td>\n",
       "      <td>61</td>\n",
       "      <td>34</td>\n",
       "      <td>73</td>\n",
       "      <td>7</td>\n",
       "      <td>63</td>\n",
       "      <td>ST</td>\n",
       "      <td>63+2</td>\n",
       "    </tr>\n",
       "    <tr>\n",
       "      <td>13728</td>\n",
       "      <td>4229</td>\n",
       "      <td>203757</td>\n",
       "      <td>Zé Luís</td>\n",
       "      <td>29</td>\n",
       "      <td>Cape Verde</td>\n",
       "      <td>FC Porto</td>\n",
       "      <td>ST</td>\n",
       "      <td>ST</td>\n",
       "      <td>FC Porto 2019 ~ 2023</td>\n",
       "      <td>6'0\"</td>\n",
       "      <td>...</td>\n",
       "      <td>80</td>\n",
       "      <td>75</td>\n",
       "      <td>59</td>\n",
       "      <td>75</td>\n",
       "      <td>33</td>\n",
       "      <td>80</td>\n",
       "      <td>89</td>\n",
       "      <td>77</td>\n",
       "      <td>ST</td>\n",
       "      <td>77+0</td>\n",
       "    </tr>\n",
       "  </tbody>\n",
       "</table>\n",
       "<p>5 rows × 77 columns</p>\n",
       "</div>"
      ],
      "text/plain": [
       "       Unnamed: 0      ID           Name  Age Nationality  \\\n",
       "13701        2225  188044  Alan Carvalho   30    China PR   \n",
       "13718        5168  209709   B. Edomwonyi   25     Nigeria   \n",
       "13722       12279  242250       G. Verón   18   Argentina   \n",
       "13724        4707  206263      T. Hopper   26     England   \n",
       "13728        4229  203757        Zé Luís   29  Cape Verde   \n",
       "\n",
       "                          Club  BP  Position  \\\n",
       "13701  Beijing Sinobo Guoan FC  ST  ST LW LM   \n",
       "13718          FK Austria Wien  ST     ST LM   \n",
       "13722       Argentinos Juniors  ST        ST   \n",
       "13724             Lincoln City  ST        ST   \n",
       "13728                 FC Porto  ST        ST   \n",
       "\n",
       "                                    Team & Contract Height  ... PAC SHO  PAS  \\\n",
       "13701  Beijing Sinobo Guoan FC Dec 31, 2020 On Loan   6'0\"  ...  83  75   68   \n",
       "13718                   FK Austria Wien 2018 ~ 2022   6'1\"  ...  85  62   52   \n",
       "13722                Argentinos Juniors 2018 ~ 2021   6'0\"  ...  63  57   44   \n",
       "13724                      Lincoln City 2020 ~ 2023   6'1\"  ...  63  62   52   \n",
       "13728                          FC Porto 2019 ~ 2023   6'0\"  ...  80  75   59   \n",
       "\n",
       "      DRI DEF PHY Hits OVA variable  value  \n",
       "13701  82  33  71   44  77       ST   77+0  \n",
       "13718  67  29  71    6  66       ST   66+2  \n",
       "13722  58  30  58    4  59       ST   58+2  \n",
       "13724  61  34  73    7  63       ST   63+2  \n",
       "13728  75  33  80   89  77       ST   77+0  \n",
       "\n",
       "[5 rows x 77 columns]"
      ]
     },
     "execution_count": 7,
     "metadata": {},
     "output_type": "execute_result"
    }
   ],
   "source": [
    "df_m.head()"
   ]
  },
  {
   "cell_type": "code",
   "execution_count": 8,
   "metadata": {},
   "outputs": [],
   "source": [
    "# Selecting only certain variables to work with\n",
    "\n",
    "red_df= df_m[['Name', 'Growth', 'Value', 'Wage', 'Total Stats', 'Base Stats', 'OVA', 'value', 'IR']]"
   ]
  },
  {
   "cell_type": "code",
   "execution_count": 9,
   "metadata": {},
   "outputs": [],
   "source": [
    "# Organizing the df\n",
    "\n",
    "red_df= red_df[['Name', 'Wage', 'Value', 'Growth', 'value', 'Base Stats', 'Total Stats', 'IR', 'OVA']]"
   ]
  },
  {
   "cell_type": "code",
   "execution_count": 10,
   "metadata": {},
   "outputs": [
    {
     "data": {
      "text/html": [
       "<div>\n",
       "<style scoped>\n",
       "    .dataframe tbody tr th:only-of-type {\n",
       "        vertical-align: middle;\n",
       "    }\n",
       "\n",
       "    .dataframe tbody tr th {\n",
       "        vertical-align: top;\n",
       "    }\n",
       "\n",
       "    .dataframe thead th {\n",
       "        text-align: right;\n",
       "    }\n",
       "</style>\n",
       "<table border=\"1\" class=\"dataframe\">\n",
       "  <thead>\n",
       "    <tr style=\"text-align: right;\">\n",
       "      <th></th>\n",
       "      <th>Name</th>\n",
       "      <th>Wage</th>\n",
       "      <th>Value</th>\n",
       "      <th>Growth</th>\n",
       "      <th>value</th>\n",
       "      <th>Base Stats</th>\n",
       "      <th>Total Stats</th>\n",
       "      <th>IR</th>\n",
       "      <th>OVA</th>\n",
       "    </tr>\n",
       "  </thead>\n",
       "  <tbody>\n",
       "    <tr>\n",
       "      <td>13701</td>\n",
       "      <td>Alan Carvalho</td>\n",
       "      <td>€23K</td>\n",
       "      <td>€8.5M</td>\n",
       "      <td>0</td>\n",
       "      <td>77+0</td>\n",
       "      <td>412</td>\n",
       "      <td>1961</td>\n",
       "      <td>2 ★</td>\n",
       "      <td>77</td>\n",
       "    </tr>\n",
       "    <tr>\n",
       "      <td>13718</td>\n",
       "      <td>B. Edomwonyi</td>\n",
       "      <td>€6K</td>\n",
       "      <td>€825K</td>\n",
       "      <td>3</td>\n",
       "      <td>66+2</td>\n",
       "      <td>366</td>\n",
       "      <td>1656</td>\n",
       "      <td>1 ★</td>\n",
       "      <td>66</td>\n",
       "    </tr>\n",
       "    <tr>\n",
       "      <td>13722</td>\n",
       "      <td>G. Verón</td>\n",
       "      <td>€900</td>\n",
       "      <td>€325K</td>\n",
       "      <td>17</td>\n",
       "      <td>58+2</td>\n",
       "      <td>310</td>\n",
       "      <td>1428</td>\n",
       "      <td>1 ★</td>\n",
       "      <td>59</td>\n",
       "    </tr>\n",
       "    <tr>\n",
       "      <td>13724</td>\n",
       "      <td>T. Hopper</td>\n",
       "      <td>€3K</td>\n",
       "      <td>€475K</td>\n",
       "      <td>3</td>\n",
       "      <td>63+2</td>\n",
       "      <td>345</td>\n",
       "      <td>1626</td>\n",
       "      <td>1 ★</td>\n",
       "      <td>63</td>\n",
       "    </tr>\n",
       "    <tr>\n",
       "      <td>13728</td>\n",
       "      <td>Zé Luís</td>\n",
       "      <td>€16K</td>\n",
       "      <td>€9M</td>\n",
       "      <td>0</td>\n",
       "      <td>77+0</td>\n",
       "      <td>402</td>\n",
       "      <td>1889</td>\n",
       "      <td>1 ★</td>\n",
       "      <td>77</td>\n",
       "    </tr>\n",
       "  </tbody>\n",
       "</table>\n",
       "</div>"
      ],
      "text/plain": [
       "                Name  Wage  Value  Growth value  Base Stats  Total Stats   IR  \\\n",
       "13701  Alan Carvalho  €23K  €8.5M       0  77+0         412         1961  2 ★   \n",
       "13718   B. Edomwonyi   €6K  €825K       3  66+2         366         1656  1 ★   \n",
       "13722       G. Verón  €900  €325K      17  58+2         310         1428  1 ★   \n",
       "13724      T. Hopper   €3K  €475K       3  63+2         345         1626  1 ★   \n",
       "13728        Zé Luís  €16K    €9M       0  77+0         402         1889  1 ★   \n",
       "\n",
       "       OVA  \n",
       "13701   77  \n",
       "13718   66  \n",
       "13722   59  \n",
       "13724   63  \n",
       "13728   77  "
      ]
     },
     "execution_count": 10,
     "metadata": {},
     "output_type": "execute_result"
    }
   ],
   "source": [
    "red_df.head()"
   ]
  },
  {
   "cell_type": "code",
   "execution_count": 11,
   "metadata": {},
   "outputs": [],
   "source": [
    "# Standarazing headers\n",
    "\n",
    "red_df.columns= red_df.columns.str.lower().str.replace(' ','_')\n",
    "#red_df.head(1)"
   ]
  },
  {
   "cell_type": "code",
   "execution_count": 12,
   "metadata": {},
   "outputs": [
    {
     "data": {
      "text/plain": [
       "Index(['name', 'wage', 'value', 'growth', 'value', 'base_stats', 'total_stats',\n",
       "       'ir', 'ova'],\n",
       "      dtype='object')"
      ]
     },
     "execution_count": 12,
     "metadata": {},
     "output_type": "execute_result"
    }
   ],
   "source": [
    "red_df.columns\n",
    "red_df.columns= ['name', 'wage', 'value', 'growth', 'bp_stats', 'base_stats', 'total_stats', 'ir', 'ova']"
   ]
  },
  {
   "cell_type": "code",
   "execution_count": 13,
   "metadata": {},
   "outputs": [
    {
     "data": {
      "text/html": [
       "<div>\n",
       "<style scoped>\n",
       "    .dataframe tbody tr th:only-of-type {\n",
       "        vertical-align: middle;\n",
       "    }\n",
       "\n",
       "    .dataframe tbody tr th {\n",
       "        vertical-align: top;\n",
       "    }\n",
       "\n",
       "    .dataframe thead th {\n",
       "        text-align: right;\n",
       "    }\n",
       "</style>\n",
       "<table border=\"1\" class=\"dataframe\">\n",
       "  <thead>\n",
       "    <tr style=\"text-align: right;\">\n",
       "      <th></th>\n",
       "      <th>name</th>\n",
       "      <th>wage</th>\n",
       "      <th>value</th>\n",
       "      <th>growth</th>\n",
       "      <th>bp_stats</th>\n",
       "      <th>base_stats</th>\n",
       "      <th>total_stats</th>\n",
       "      <th>ir</th>\n",
       "      <th>ova</th>\n",
       "    </tr>\n",
       "  </thead>\n",
       "  <tbody>\n",
       "    <tr>\n",
       "      <td>13701</td>\n",
       "      <td>Alan Carvalho</td>\n",
       "      <td>€23K</td>\n",
       "      <td>€8.5M</td>\n",
       "      <td>0</td>\n",
       "      <td>77+0</td>\n",
       "      <td>412</td>\n",
       "      <td>1961</td>\n",
       "      <td>2 ★</td>\n",
       "      <td>77</td>\n",
       "    </tr>\n",
       "    <tr>\n",
       "      <td>13718</td>\n",
       "      <td>B. Edomwonyi</td>\n",
       "      <td>€6K</td>\n",
       "      <td>€825K</td>\n",
       "      <td>3</td>\n",
       "      <td>66+2</td>\n",
       "      <td>366</td>\n",
       "      <td>1656</td>\n",
       "      <td>1 ★</td>\n",
       "      <td>66</td>\n",
       "    </tr>\n",
       "  </tbody>\n",
       "</table>\n",
       "</div>"
      ],
      "text/plain": [
       "                name  wage  value  growth bp_stats  base_stats  total_stats  \\\n",
       "13701  Alan Carvalho  €23K  €8.5M       0     77+0         412         1961   \n",
       "13718   B. Edomwonyi   €6K  €825K       3     66+2         366         1656   \n",
       "\n",
       "        ir  ova  \n",
       "13701  2 ★   77  \n",
       "13718  1 ★   66  "
      ]
     },
     "execution_count": 13,
     "metadata": {},
     "output_type": "execute_result"
    }
   ],
   "source": [
    "red_df.head(2)"
   ]
  },
  {
   "cell_type": "code",
   "execution_count": 14,
   "metadata": {},
   "outputs": [],
   "source": [
    "# Standarizing data and converting to correct type\n",
    "\n",
    "red_df['wage']= red_df['wage'].str.replace('€', '').str.replace('K', '000').str.replace('M', '000000').str.replace('.','').str.replace('★','')\n",
    "red_df['value']= red_df['value'].str.replace('€', '').str.replace('K', '000').str.replace('M', '000000').str.replace('.','').str.replace('★','')\n",
    "red_df['bp_stats']= red_df['bp_stats'].str.replace('€', '').str.replace('K', '000').str.replace('M', '000000').str.replace('.','').str.replace('★','')\n",
    "red_df['ir']= red_df['ir'].str.replace('€', '').str.replace('K', '000').str.replace('M', '000000').str.replace('.','').str.replace('★','')"
   ]
  },
  {
   "cell_type": "code",
   "execution_count": 15,
   "metadata": {},
   "outputs": [],
   "source": [
    "red_df['bp_stats']= red_df['bp_stats'].apply(lambda x : x.split('+')[0])"
   ]
  },
  {
   "cell_type": "code",
   "execution_count": 16,
   "metadata": {},
   "outputs": [
    {
     "data": {
      "text/html": [
       "<div>\n",
       "<style scoped>\n",
       "    .dataframe tbody tr th:only-of-type {\n",
       "        vertical-align: middle;\n",
       "    }\n",
       "\n",
       "    .dataframe tbody tr th {\n",
       "        vertical-align: top;\n",
       "    }\n",
       "\n",
       "    .dataframe thead th {\n",
       "        text-align: right;\n",
       "    }\n",
       "</style>\n",
       "<table border=\"1\" class=\"dataframe\">\n",
       "  <thead>\n",
       "    <tr style=\"text-align: right;\">\n",
       "      <th></th>\n",
       "      <th>name</th>\n",
       "      <th>wage</th>\n",
       "      <th>value</th>\n",
       "      <th>growth</th>\n",
       "      <th>bp_stats</th>\n",
       "      <th>base_stats</th>\n",
       "      <th>total_stats</th>\n",
       "      <th>ir</th>\n",
       "      <th>ova</th>\n",
       "    </tr>\n",
       "  </thead>\n",
       "  <tbody>\n",
       "    <tr>\n",
       "      <td>13701</td>\n",
       "      <td>Alan Carvalho</td>\n",
       "      <td>23000</td>\n",
       "      <td>85000000</td>\n",
       "      <td>0</td>\n",
       "      <td>77</td>\n",
       "      <td>412</td>\n",
       "      <td>1961</td>\n",
       "      <td>2</td>\n",
       "      <td>77</td>\n",
       "    </tr>\n",
       "    <tr>\n",
       "      <td>13718</td>\n",
       "      <td>B. Edomwonyi</td>\n",
       "      <td>6000</td>\n",
       "      <td>825000</td>\n",
       "      <td>3</td>\n",
       "      <td>66</td>\n",
       "      <td>366</td>\n",
       "      <td>1656</td>\n",
       "      <td>1</td>\n",
       "      <td>66</td>\n",
       "    </tr>\n",
       "  </tbody>\n",
       "</table>\n",
       "</div>"
      ],
      "text/plain": [
       "                name   wage     value  growth bp_stats  base_stats  \\\n",
       "13701  Alan Carvalho  23000  85000000       0       77         412   \n",
       "13718   B. Edomwonyi   6000    825000       3       66         366   \n",
       "\n",
       "       total_stats  ir  ova  \n",
       "13701         1961  2    77  \n",
       "13718         1656  1    66  "
      ]
     },
     "execution_count": 16,
     "metadata": {},
     "output_type": "execute_result"
    }
   ],
   "source": [
    "red_df.head(2)"
   ]
  },
  {
   "cell_type": "code",
   "execution_count": 17,
   "metadata": {},
   "outputs": [],
   "source": [
    "red_df[['wage', 'value', 'bp_stats', 'ir']] = red_df[['wage', 'value', 'bp_stats', 'ir']].astype(int)"
   ]
  },
  {
   "cell_type": "code",
   "execution_count": 18,
   "metadata": {},
   "outputs": [
    {
     "data": {
      "text/plain": [
       "name           object\n",
       "wage            int64\n",
       "value           int64\n",
       "growth          int64\n",
       "bp_stats        int64\n",
       "base_stats      int64\n",
       "total_stats     int64\n",
       "ir              int64\n",
       "ova             int64\n",
       "dtype: object"
      ]
     },
     "execution_count": 18,
     "metadata": {},
     "output_type": "execute_result"
    }
   ],
   "source": [
    "red_df.dtypes"
   ]
  },
  {
   "cell_type": "code",
   "execution_count": 19,
   "metadata": {},
   "outputs": [
    {
     "data": {
      "text/plain": [
       "name           0\n",
       "wage           0\n",
       "value          0\n",
       "growth         0\n",
       "bp_stats       0\n",
       "base_stats     0\n",
       "total_stats    0\n",
       "ir             0\n",
       "ova            0\n",
       "dtype: int64"
      ]
     },
     "execution_count": 19,
     "metadata": {},
     "output_type": "execute_result"
    }
   ],
   "source": [
    "# Checking missing vals\n",
    "\n",
    "red_df.isnull().sum()"
   ]
  },
  {
   "cell_type": "code",
   "execution_count": 20,
   "metadata": {},
   "outputs": [],
   "source": [
    "df_num= red_df.select_dtypes(include= np.number)\n",
    "#df_cat= df.select_dtypes(include= np.cat)"
   ]
  },
  {
   "cell_type": "code",
   "execution_count": 21,
   "metadata": {},
   "outputs": [],
   "source": [
    "# Data Visualization and standarization"
   ]
  },
  {
   "cell_type": "code",
   "execution_count": null,
   "metadata": {},
   "outputs": [],
   "source": []
  },
  {
   "cell_type": "code",
   "execution_count": 22,
   "metadata": {},
   "outputs": [
    {
     "data": {
      "text/html": [
       "<div>\n",
       "<style scoped>\n",
       "    .dataframe tbody tr th:only-of-type {\n",
       "        vertical-align: middle;\n",
       "    }\n",
       "\n",
       "    .dataframe tbody tr th {\n",
       "        vertical-align: top;\n",
       "    }\n",
       "\n",
       "    .dataframe thead th {\n",
       "        text-align: right;\n",
       "    }\n",
       "</style>\n",
       "<table border=\"1\" class=\"dataframe\">\n",
       "  <thead>\n",
       "    <tr style=\"text-align: right;\">\n",
       "      <th></th>\n",
       "      <th>wage</th>\n",
       "      <th>value</th>\n",
       "      <th>growth</th>\n",
       "      <th>bp_stats</th>\n",
       "      <th>base_stats</th>\n",
       "      <th>total_stats</th>\n",
       "      <th>ir</th>\n",
       "      <th>ova</th>\n",
       "    </tr>\n",
       "  </thead>\n",
       "  <tbody>\n",
       "    <tr>\n",
       "      <td>13701</td>\n",
       "      <td>23000</td>\n",
       "      <td>85000000</td>\n",
       "      <td>0</td>\n",
       "      <td>77</td>\n",
       "      <td>412</td>\n",
       "      <td>1961</td>\n",
       "      <td>2</td>\n",
       "      <td>77</td>\n",
       "    </tr>\n",
       "    <tr>\n",
       "      <td>13718</td>\n",
       "      <td>6000</td>\n",
       "      <td>825000</td>\n",
       "      <td>3</td>\n",
       "      <td>66</td>\n",
       "      <td>366</td>\n",
       "      <td>1656</td>\n",
       "      <td>1</td>\n",
       "      <td>66</td>\n",
       "    </tr>\n",
       "    <tr>\n",
       "      <td>13722</td>\n",
       "      <td>900</td>\n",
       "      <td>325000</td>\n",
       "      <td>17</td>\n",
       "      <td>58</td>\n",
       "      <td>310</td>\n",
       "      <td>1428</td>\n",
       "      <td>1</td>\n",
       "      <td>59</td>\n",
       "    </tr>\n",
       "    <tr>\n",
       "      <td>13724</td>\n",
       "      <td>3000</td>\n",
       "      <td>475000</td>\n",
       "      <td>3</td>\n",
       "      <td>63</td>\n",
       "      <td>345</td>\n",
       "      <td>1626</td>\n",
       "      <td>1</td>\n",
       "      <td>63</td>\n",
       "    </tr>\n",
       "    <tr>\n",
       "      <td>13728</td>\n",
       "      <td>16000</td>\n",
       "      <td>9000000</td>\n",
       "      <td>0</td>\n",
       "      <td>77</td>\n",
       "      <td>402</td>\n",
       "      <td>1889</td>\n",
       "      <td>1</td>\n",
       "      <td>77</td>\n",
       "    </tr>\n",
       "  </tbody>\n",
       "</table>\n",
       "</div>"
      ],
      "text/plain": [
       "        wage     value  growth  bp_stats  base_stats  total_stats  ir  ova\n",
       "13701  23000  85000000       0        77         412         1961   2   77\n",
       "13718   6000    825000       3        66         366         1656   1   66\n",
       "13722    900    325000      17        58         310         1428   1   59\n",
       "13724   3000    475000       3        63         345         1626   1   63\n",
       "13728  16000   9000000       0        77         402         1889   1   77"
      ]
     },
     "execution_count": 22,
     "metadata": {},
     "output_type": "execute_result"
    }
   ],
   "source": [
    "df_num.head()"
   ]
  },
  {
   "cell_type": "code",
   "execution_count": 23,
   "metadata": {},
   "outputs": [],
   "source": [
    "y = df_num['ova']\n",
    "X = df_num.drop(['ova'], axis=1)"
   ]
  },
  {
   "cell_type": "code",
   "execution_count": 38,
   "metadata": {},
   "outputs": [
    {
     "data": {
      "text/plain": [
       "(13700, 8)"
      ]
     },
     "execution_count": 38,
     "metadata": {},
     "output_type": "execute_result"
    },
    {
     "data": {
      "text/html": [
       "<div>\n",
       "<style scoped>\n",
       "    .dataframe tbody tr th:only-of-type {\n",
       "        vertical-align: middle;\n",
       "    }\n",
       "\n",
       "    .dataframe tbody tr th {\n",
       "        vertical-align: top;\n",
       "    }\n",
       "\n",
       "    .dataframe thead th {\n",
       "        text-align: right;\n",
       "    }\n",
       "</style>\n",
       "<table border=\"1\" class=\"dataframe\">\n",
       "  <thead>\n",
       "    <tr style=\"text-align: right;\">\n",
       "      <th></th>\n",
       "      <th>wage</th>\n",
       "      <th>value</th>\n",
       "      <th>growth</th>\n",
       "      <th>bp_stats</th>\n",
       "      <th>base_stats</th>\n",
       "      <th>total_stats</th>\n",
       "      <th>ir</th>\n",
       "      <th>ova</th>\n",
       "    </tr>\n",
       "  </thead>\n",
       "  <tbody>\n",
       "    <tr>\n",
       "      <td>0</td>\n",
       "      <td>0.041071</td>\n",
       "      <td>0.117241</td>\n",
       "      <td>0.037037</td>\n",
       "      <td>0.722222</td>\n",
       "      <td>0.681481</td>\n",
       "      <td>0.781945</td>\n",
       "      <td>0.25</td>\n",
       "      <td>0.709091</td>\n",
       "    </tr>\n",
       "    <tr>\n",
       "      <td>1</td>\n",
       "      <td>0.010714</td>\n",
       "      <td>0.001138</td>\n",
       "      <td>0.148148</td>\n",
       "      <td>0.518519</td>\n",
       "      <td>0.511111</td>\n",
       "      <td>0.588048</td>\n",
       "      <td>0.00</td>\n",
       "      <td>0.509091</td>\n",
       "    </tr>\n",
       "  </tbody>\n",
       "</table>\n",
       "</div>"
      ],
      "text/plain": [
       "       wage     value    growth  bp_stats  base_stats  total_stats    ir  \\\n",
       "0  0.041071  0.117241  0.037037  0.722222    0.681481     0.781945  0.25   \n",
       "1  0.010714  0.001138  0.148148  0.518519    0.511111     0.588048  0.00   \n",
       "\n",
       "        ova  \n",
       "0  0.709091  \n",
       "1  0.509091  "
      ]
     },
     "execution_count": 38,
     "metadata": {},
     "output_type": "execute_result"
    }
   ],
   "source": [
    "# Scaling variables\n",
    "\n",
    "MinMaxtransformer = MinMaxScaler().fit(df_num)\n",
    "x_normalized = MinMaxtransformer.transform(df_num)\n",
    "x_normalized.shape\n",
    "x_normalized = pd.DataFrame(x_normalized,columns=df_num.columns)\n",
    "x_normalized.head(2)"
   ]
  },
  {
   "cell_type": "code",
   "execution_count": 44,
   "metadata": {},
   "outputs": [
    {
     "data": {
      "text/plain": [
       "(13700, 8)"
      ]
     },
     "execution_count": 44,
     "metadata": {},
     "output_type": "execute_result"
    },
    {
     "data": {
      "text/html": [
       "<div>\n",
       "<style scoped>\n",
       "    .dataframe tbody tr th:only-of-type {\n",
       "        vertical-align: middle;\n",
       "    }\n",
       "\n",
       "    .dataframe tbody tr th {\n",
       "        vertical-align: top;\n",
       "    }\n",
       "\n",
       "    .dataframe thead th {\n",
       "        text-align: right;\n",
       "    }\n",
       "</style>\n",
       "<table border=\"1\" class=\"dataframe\">\n",
       "  <thead>\n",
       "    <tr style=\"text-align: right;\">\n",
       "      <th></th>\n",
       "      <th>wage</th>\n",
       "      <th>value</th>\n",
       "      <th>growth</th>\n",
       "      <th>bp_stats</th>\n",
       "      <th>base_stats</th>\n",
       "      <th>total_stats</th>\n",
       "      <th>ir</th>\n",
       "      <th>ova</th>\n",
       "    </tr>\n",
       "  </thead>\n",
       "  <tbody>\n",
       "    <tr>\n",
       "      <td>0</td>\n",
       "      <td>0.596462</td>\n",
       "      <td>1.829558</td>\n",
       "      <td>-0.950485</td>\n",
       "      <td>1.539813</td>\n",
       "      <td>1.258988</td>\n",
       "      <td>1.267915</td>\n",
       "      <td>1.868479</td>\n",
       "      <td>1.465624</td>\n",
       "    </tr>\n",
       "    <tr>\n",
       "      <td>1</td>\n",
       "      <td>-0.210995</td>\n",
       "      <td>-0.376523</td>\n",
       "      <td>-0.432973</td>\n",
       "      <td>-0.078048</td>\n",
       "      <td>0.116328</td>\n",
       "      <td>0.099228</td>\n",
       "      <td>-0.329165</td>\n",
       "      <td>-0.137889</td>\n",
       "    </tr>\n",
       "  </tbody>\n",
       "</table>\n",
       "</div>"
      ],
      "text/plain": [
       "       wage     value    growth  bp_stats  base_stats  total_stats        ir  \\\n",
       "0  0.596462  1.829558 -0.950485  1.539813    1.258988     1.267915  1.868479   \n",
       "1 -0.210995 -0.376523 -0.432973 -0.078048    0.116328     0.099228 -0.329165   \n",
       "\n",
       "        ova  \n",
       "0  1.465624  \n",
       "1 -0.137889  "
      ]
     },
     "execution_count": 44,
     "metadata": {},
     "output_type": "execute_result"
    }
   ],
   "source": [
    "Standardtransformer = StandardScaler().fit(df_num)\n",
    "x_standardized = Standardtransformer.transform(df_num)\n",
    "x_standardized.shape\n",
    "x_standardized = pd.DataFrame(x_standardized,columns=df_num.columns)\n",
    "x_standardized.head(2)"
   ]
  },
  {
   "cell_type": "code",
   "execution_count": 45,
   "metadata": {},
   "outputs": [
    {
     "data": {
      "text/html": [
       "<div>\n",
       "<style scoped>\n",
       "    .dataframe tbody tr th:only-of-type {\n",
       "        vertical-align: middle;\n",
       "    }\n",
       "\n",
       "    .dataframe tbody tr th {\n",
       "        vertical-align: top;\n",
       "    }\n",
       "\n",
       "    .dataframe thead th {\n",
       "        text-align: right;\n",
       "    }\n",
       "</style>\n",
       "<table border=\"1\" class=\"dataframe\">\n",
       "  <thead>\n",
       "    <tr style=\"text-align: right;\">\n",
       "      <th></th>\n",
       "      <th>wage</th>\n",
       "      <th>value</th>\n",
       "      <th>growth</th>\n",
       "      <th>bp_stats</th>\n",
       "      <th>base_stats</th>\n",
       "      <th>total_stats</th>\n",
       "      <th>ir</th>\n",
       "    </tr>\n",
       "  </thead>\n",
       "  <tbody>\n",
       "    <tr>\n",
       "      <td>13701</td>\n",
       "      <td>23000</td>\n",
       "      <td>85000000</td>\n",
       "      <td>0</td>\n",
       "      <td>77</td>\n",
       "      <td>412</td>\n",
       "      <td>1961</td>\n",
       "      <td>2</td>\n",
       "    </tr>\n",
       "    <tr>\n",
       "      <td>13718</td>\n",
       "      <td>6000</td>\n",
       "      <td>825000</td>\n",
       "      <td>3</td>\n",
       "      <td>66</td>\n",
       "      <td>366</td>\n",
       "      <td>1656</td>\n",
       "      <td>1</td>\n",
       "    </tr>\n",
       "  </tbody>\n",
       "</table>\n",
       "</div>"
      ],
      "text/plain": [
       "        wage     value  growth  bp_stats  base_stats  total_stats  ir\n",
       "13701  23000  85000000       0        77         412         1961   2\n",
       "13718   6000    825000       3        66         366         1656   1"
      ]
     },
     "execution_count": 45,
     "metadata": {},
     "output_type": "execute_result"
    },
    {
     "data": {
      "text/plain": [
       "13701    77\n",
       "13718    66\n",
       "Name: ova, dtype: int64"
      ]
     },
     "execution_count": 45,
     "metadata": {},
     "output_type": "execute_result"
    }
   ],
   "source": [
    "X.head(2)\n",
    "y.head(2)"
   ]
  },
  {
   "cell_type": "code",
   "execution_count": 53,
   "metadata": {},
   "outputs": [],
   "source": [
    "# Splitting and training the model\n",
    "\n",
    "X_train, X_test, y_train, y_test = train_test_split(X, y, test_size=0.25, random_state=1000)"
   ]
  },
  {
   "cell_type": "code",
   "execution_count": 47,
   "metadata": {},
   "outputs": [],
   "source": [
    "lm = linear_model.LinearRegression()\n",
    "model = lm.fit(X_train,y_train)"
   ]
  },
  {
   "cell_type": "code",
   "execution_count": 54,
   "metadata": {},
   "outputs": [
    {
     "data": {
      "text/plain": [
       "0.9823983548752125"
      ]
     },
     "execution_count": 54,
     "metadata": {},
     "output_type": "execute_result"
    }
   ],
   "source": [
    "predictions = lm.predict(X_test)\n",
    "r2_score(y_test, predictions)"
   ]
  },
  {
   "cell_type": "code",
   "execution_count": 30,
   "metadata": {},
   "outputs": [
    {
     "name": "stdout",
     "output_type": "stream",
     "text": [
      "0.967790679596279\n"
     ]
    }
   ],
   "source": [
    "mse = mean_squared_error(y_test, predictions)\n",
    "print(mse)"
   ]
  },
  {
   "cell_type": "code",
   "execution_count": 31,
   "metadata": {},
   "outputs": [
    {
     "name": "stdout",
     "output_type": "stream",
     "text": [
      "0.9837635282913668\n"
     ]
    }
   ],
   "source": [
    "rmse = math.sqrt(mse)\n",
    "print(rmse)"
   ]
  },
  {
   "cell_type": "code",
   "execution_count": 32,
   "metadata": {},
   "outputs": [
    {
     "data": {
      "text/plain": [
       "0.9789931276465981"
      ]
     },
     "execution_count": 32,
     "metadata": {},
     "output_type": "execute_result"
    }
   ],
   "source": [
    "r2 = r2_score(y_test, predictions)\n",
    "r2"
   ]
  },
  {
   "cell_type": "code",
   "execution_count": null,
   "metadata": {},
   "outputs": [],
   "source": []
  },
  {
   "cell_type": "raw",
   "metadata": {},
   "source": [
    " if type(x) == str:\n",
    "        return x.replace(\"€\",\" \")\n",
    "    else:\n",
    "        return float(x)\n",
    "\n",
    "#using regular expressions to find M and K, and then replace them\n",
    "from re import search\n",
    "\n",
    "subs1 =\"K\"\n",
    "subs2 =\"M\"\n",
    "def conv_float_M_or_K(x):\n",
    "    if type(x) == str:\n",
    "        if search(subs2,x):\n",
    "            x=x.replace(\"M\",\" \")\n",
    "            return float(x)*1000000\n",
    "        elif search(subs1,x):\n",
    "            x=x.replace(\"K\",\" \")\n",
    "            return float(x)*1000\n",
    "        else:\n",
    "            return float(x)\n",
    "    else:\n",
    "        return float(x)\n",
    "\n",
    "red_df['Value'] = list(map(remove_euro_symbol,df['Value']))\n",
    "\n",
    "red_df['Value'].head(2)"
   ]
  }
 ],
 "metadata": {
  "kernelspec": {
   "display_name": "Python 3",
   "language": "python",
   "name": "python3"
  },
  "language_info": {
   "codemirror_mode": {
    "name": "ipython",
    "version": 3
   },
   "file_extension": ".py",
   "mimetype": "text/x-python",
   "name": "python",
   "nbconvert_exporter": "python",
   "pygments_lexer": "ipython3",
   "version": "3.7.4"
  }
 },
 "nbformat": 4,
 "nbformat_minor": 2
}
